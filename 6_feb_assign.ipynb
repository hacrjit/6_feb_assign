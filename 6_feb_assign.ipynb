{
 "cells": [
  {
   "cell_type": "markdown",
   "id": "39d63fc0",
   "metadata": {},
   "source": [
    "### Q1. Create a function which will take a list as an argument and return the product of all the numbers after creating a flat list. Use the below-given list as an argument for your function.\n",
    "### list1 = [1,2,3,4, [44,55,66, True], False, (34,56,78,89,34), {1,2,3,3,2,1}, {1:34, \"key2\": [55, 67, 78, 89], 4: (45,22, 61, 34)}, [56, 'data science'], 'Machine Learning']\n",
    "### Note: you must extract numeric keys and values of the dictionary also."
   ]
  },
  {
   "cell_type": "code",
   "execution_count": 5,
   "id": "ac533130",
   "metadata": {},
   "outputs": [],
   "source": [
    "list1 = [1,2,3,4, [44,55,66, True], False, (34,56,78,89,34), {1,2,3,3,2,1}, {1:34, \"key2\": [55, 67, 78, 89], 4: (45,22, 61, 34)}, [56, 'data science'], 'Machine Learning']\n",
    "from math import prod\n",
    "def fun(lst):\n",
    "    l = []\n",
    "    for i in lst:\n",
    "        if type(i) == list or type(i) == tuple or type(i) == set:\n",
    "            for j in i:\n",
    "                if type(j) == int:\n",
    "                    l.append(j)\n",
    "        elif type(i) == dict:\n",
    "            for k in i:\n",
    "                if type(k) == tuple or type(k) == set:\n",
    "                    for m in k:\n",
    "                        if type(m) == int:\n",
    "                            l.append(m)\n",
    "                elif type(k) == int:\n",
    "                    l.append(k)\n",
    "                if type(i[k]) == list or type(i[k]) == tuple or type(i[k]) == set:\n",
    "                    for n in i[k]:\n",
    "                        if type(n) == int:\n",
    "                            l.append(n)\n",
    "                elif type(i[k]) == int:\n",
    "                    l.append(i[k])\n",
    "        elif type(i) == int:\n",
    "            l.append(i)\n",
    "    return prod(l)"
   ]
  },
  {
   "cell_type": "code",
   "execution_count": 6,
   "id": "3c4b0415",
   "metadata": {},
   "outputs": [
    {
     "data": {
      "text/plain": [
       "4134711838987085478833841242112000"
      ]
     },
     "execution_count": 6,
     "metadata": {},
     "output_type": "execute_result"
    }
   ],
   "source": [
    "fun(list1)"
   ]
  },
  {
   "cell_type": "markdown",
   "id": "ed786052",
   "metadata": {},
   "source": [
    "### Q2. Write a python program for encrypting a message sent to you by your friend. The logic of encryption should be such that, for a the output should be z. For b, the output should be y. For c, the output should be x respectively. Also, the whitespace should be replaced with a dollar sign. Keep the punctuation marks unchanged.\n",
    "### Input Sentence: I want to become a Data Scientist.\n",
    "### Encrypt the above input sentence using the program you just created.\n",
    "### Note: Convert the given input sentence into lowercase before encrypting. The final output should be lowercase."
   ]
  },
  {
   "cell_type": "code",
   "execution_count": 7,
   "id": "a4969d14",
   "metadata": {},
   "outputs": [],
   "source": [
    "def encrypt(sentence):\n",
    "    alpha = \"abcdefghijklmnopqrstuvwxyz\"\n",
    "    output = \"\"\n",
    "    for i in sentence.lower():\n",
    "        if i.islower():\n",
    "            output += alpha[25-alpha.index(i)]\n",
    "        elif i.isspace():\n",
    "            output += \"$\"\n",
    "        else:\n",
    "            output += i\n",
    "    return output"
   ]
  },
  {
   "cell_type": "code",
   "execution_count": 8,
   "id": "288a1893",
   "metadata": {},
   "outputs": [
    {
     "data": {
      "text/plain": [
       "'r$dzmg$gl$yvxlnv$z$wzgz$hxrvmgrhg.'"
      ]
     },
     "execution_count": 8,
     "metadata": {},
     "output_type": "execute_result"
    }
   ],
   "source": [
    "encrypt(\"I want to become a Data Scientist.\")"
   ]
  }
 ],
 "metadata": {
  "kernelspec": {
   "display_name": "Python 3 (ipykernel)",
   "language": "python",
   "name": "python3"
  },
  "language_info": {
   "codemirror_mode": {
    "name": "ipython",
    "version": 3
   },
   "file_extension": ".py",
   "mimetype": "text/x-python",
   "name": "python",
   "nbconvert_exporter": "python",
   "pygments_lexer": "ipython3",
   "version": "3.9.7"
  }
 },
 "nbformat": 4,
 "nbformat_minor": 5
}
